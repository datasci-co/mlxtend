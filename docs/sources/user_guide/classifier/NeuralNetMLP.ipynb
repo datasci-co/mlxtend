{
 "cells": [
  {
   "cell_type": "markdown",
   "metadata": {},
   "source": [
    "Sebastian Raschka, 2015  \n",
    "`mlxtend`, a library of extension and helper modules for Python's data analysis and machine learning libraries\n",
    "\n",
    "- GitHub repository: https://github.com/rasbt/mlxtend\n",
    "- Documentation: http://rasbt.github.io/mlxtend/\n",
    "\n",
    "View this page in [jupyter nbviewer](http://nbviewer.ipython.org/github/rasbt/mlxtend/blob/master/docs/sources/_ipynb_templates/regressor/linear_regression.ipynb)"
   ]
  },
  {
   "cell_type": "code",
   "execution_count": 1,
   "metadata": {
    "collapsed": false
   },
   "outputs": [
    {
     "name": "stdout",
     "output_type": "stream",
     "text": [
      "Sebastian Raschka \n",
      "last updated: 2016-01-31 \n",
      "\n",
      "CPython 3.5.1\n",
      "IPython 4.0.3\n",
      "\n",
      "matplotlib 1.5.1\n",
      "numpy 1.10.2\n",
      "scipy 0.16.1\n",
      "mlxtend 0.3.0\n"
     ]
    }
   ],
   "source": [
    "%load_ext watermark\n",
    "%watermark -a 'Sebastian Raschka' -u -d -v -p matplotlib,numpy,scipy,mlxtend"
   ]
  },
  {
   "cell_type": "code",
   "execution_count": 2,
   "metadata": {
    "collapsed": true
   },
   "outputs": [],
   "source": [
    "%matplotlib inline"
   ]
  },
  {
   "cell_type": "markdown",
   "metadata": {},
   "source": [
    "# Neural Network - Multilayer Perceptron"
   ]
  },
  {
   "cell_type": "markdown",
   "metadata": {},
   "source": [
    "Implementation of a multilayer perceptron, a feedforward artificial neural network."
   ]
  },
  {
   "cell_type": "markdown",
   "metadata": {},
   "source": [
    "> from mlxtend.classifier import NeuralNetMLP"
   ]
  },
  {
   "cell_type": "markdown",
   "metadata": {},
   "source": [
    "# Overview"
   ]
  },
  {
   "cell_type": "markdown",
   "metadata": {},
   "source": [
    "*Although the code is fully working and can be used for common classification tasks, this implementation is not geared towards efficiency but clarity – the original code was written for demonstration purposes.*"
   ]
  },
  {
   "cell_type": "markdown",
   "metadata": {},
   "source": [
    "## Basic Architecture"
   ]
  },
  {
   "cell_type": "markdown",
   "metadata": {},
   "source": [
    "![](./NeuralNetMLP_files/neuralnet_mlp_1.png)  "
   ]
  },
  {
   "cell_type": "markdown",
   "metadata": {},
   "source": [
    "The neurons $x_0$ and $a_0$ represent the bias units ($x_0=1$, $a_0=1$). \n",
    "\n",
    "The $i$th superscript denotes the $i$th layer, and the *j*th subscripts stands for the index of the respective unit. For example, $a_{1}^{(2)}$ refers to the first activation unit **after** the bias unit (i.e., 2nd activation unit) in the 2nd layer (here: the hidden layer)\n",
    "\n",
    "  \\begin{align}\n",
    "    \\mathbf{a^{(2)}} &= \\begin{bmatrix}\n",
    "           a_{0}^{(2)} \\\\\n",
    "           a_{1}^{(2)} \\\\\n",
    "           \\vdots \\\\\n",
    "           a_{m}^{(2)}\n",
    "         \\end{bmatrix}.\n",
    "  \\end{align}"
   ]
  },
  {
   "cell_type": "markdown",
   "metadata": {},
   "source": [
    "Each layer $(l)$ in a multi-layer perceptron, a directed graph, is fully connected to the next layer $(l+1)$. We write the weight coefficient that connects the $k$th unit in the $l$th layer to the $j$th unit in layer $l+1$ as $w^{(l)}_{j, k}$.\n",
    "\n",
    "For example, the weight coefficient that connects the units\n",
    "\n",
    "$a_0^{(2)} \\rightarrow a_1^{(3)}$\n",
    "\n",
    "would be written as $w_{1,0}^{(2)}$."
   ]
  },
  {
   "cell_type": "markdown",
   "metadata": {},
   "source": [
    "## Activation"
   ]
  },
  {
   "cell_type": "markdown",
   "metadata": {},
   "source": [
    "In the current implementation, the activations of the hidden and output layers are computed via the logistic (sigmoid) function $\\phi(z) = \\frac{1}{1 + e^{-z}}.$"
   ]
  },
  {
   "cell_type": "markdown",
   "metadata": {},
   "source": [
    "![](./NeuralNetMLP_files/logistic_function.png)"
   ]
  },
  {
   "cell_type": "markdown",
   "metadata": {},
   "source": [
    "(For more details on the logistic function, please see [`classifier.LogisticRegression`](./LogisticRegression.md); a general overview of different activation function can be found [here](../general_concepts/activation-functions.md).)"
   ]
  },
  {
   "cell_type": "markdown",
   "metadata": {},
   "source": [
    "### References\n",
    "\n",
    "- D. R. G. H. R. Williams and G. Hinton. [Learning representations by back-propagating errors](http://lia.disi.unibo.it/Courses/SistInt/articoli/nnet1.pdf). Nature, pages 323–533, 1986.\n",
    "- C. M. Bishop. [Neural networks for pattern recognition](https://books.google.de/books?hl=en&lr=&id=T0S0BgAAQBAJ&oi=fnd&pg=PP1&dq=Neural+networks+for+pattern+recognition&ots=jL6TqGbBld&sig=fiLrMg-RJx22cgQ7zd2CiwUqNqI&redir_esc=y#v=onepage&q=Neural%20networks%20for%20pattern%20recognition&f=false). Oxford University Press, 1995.\n",
    "- T. Hastie, J. Friedman, and R. Tibshirani. [The Elements of Statistical Learning](http://statweb.stanford.edu/%7Etibs/ElemStatLearn/), Volume 2. Springer, 2009."
   ]
  },
  {
   "cell_type": "markdown",
   "metadata": {},
   "source": [
    "# Examples"
   ]
  },
  {
   "cell_type": "markdown",
   "metadata": {},
   "source": [
    "## Example 1 - Classifying Iris Flowers"
   ]
  },
  {
   "cell_type": "markdown",
   "metadata": {},
   "source": [
    "Load 2 features from Iris (petal length and petal width) for visualization purposes:"
   ]
  },
  {
   "cell_type": "code",
   "execution_count": 3,
   "metadata": {
    "collapsed": true
   },
   "outputs": [],
   "source": [
    "from mlxtend.data import iris_data\n",
    "X, y = iris_data()\n",
    "X = X[:, [0, 2]]    \n",
    "\n",
    "# standardize training data\n",
    "X_std = (X - X.mean(axis=0)) / X.std(axis=0)"
   ]
  },
  {
   "cell_type": "markdown",
   "metadata": {},
   "source": [
    "Train neural network for 3 output flower classes ('Setosa', 'Versicolor', 'Virginica'), regular gradient decent (`minibatches=1`), 30 hidden units, and no regularization."
   ]
  },
  {
   "cell_type": "markdown",
   "metadata": {},
   "source": [
    "### Gradient Descent"
   ]
  },
  {
   "cell_type": "markdown",
   "metadata": {},
   "source": [
    "Setting the `minibatches` to `1` will result in gradient descent training; please see [Gradient Descent vs. Stochastic Gradient Descent](../general_concepts/gradient-optimization.md) for details."
   ]
  },
  {
   "cell_type": "code",
   "execution_count": 4,
   "metadata": {
    "collapsed": false
   },
   "outputs": [
    {
     "name": "stderr",
     "output_type": "stream",
     "text": [
      "Epoch: 300/300, Elapsed: 0:00:00, ETA: 0:00:00"
     ]
    }
   ],
   "source": [
    "from mlxtend.classifier import NeuralNetMLP\n",
    "\n",
    "import numpy as np\n",
    "nn1 = NeuralNetMLP(n_output=len(np.unique(y)), \n",
    "                   n_features=X_std.shape[1], \n",
    "                   n_hidden=50, \n",
    "                   l2=0.00, \n",
    "                   l1=0.0, \n",
    "                   epochs=300, \n",
    "                   eta=0.01, \n",
    "                   alpha=0.0,\n",
    "                   decrease_const=0.0,\n",
    "                   minibatches=1, \n",
    "                   shuffle_init=False,\n",
    "                   shuffle_epoch=False,\n",
    "                   random_seed=1,\n",
    "                   print_progress=3)\n",
    "\n",
    "nn1 = nn1.fit(X_std, y)"
   ]
  },
  {
   "cell_type": "code",
   "execution_count": 5,
   "metadata": {
    "collapsed": false
   },
   "outputs": [
    {
     "name": "stdout",
     "output_type": "stream",
     "text": [
      "Accuracy: 96.67%\n"
     ]
    }
   ],
   "source": [
    "y_pred = nn1.predict(X_std)\n",
    "acc = np.sum(y == y_pred, axis=0) / X_std.shape[0]\n",
    "print('Accuracy: %.2f%%' % (acc * 100))"
   ]
  },
  {
   "cell_type": "code",
   "execution_count": 6,
   "metadata": {
    "collapsed": false
   },
   "outputs": [
    {
     "data": {
      "image/png": "[encoded data removed]",
      "text/plain": [
       "<matplotlib.figure.Figure at 0x105955b00>"
      ]
     },
     "metadata": {},
     "output_type": "display_data"
    }
   ],
   "source": [
    "import matplotlib.pyplot as plt\n",
    "plt.plot(range(len(nn1.cost_)), nn1.cost_)\n",
    "plt.ylim([0, 300])\n",
    "plt.ylabel('Cost')\n",
    "plt.xlabel('Epochs')\n",
    "plt.show()"
   ]
  },
  {
   "cell_type": "code",
   "execution_count": 7,
   "metadata": {
    "collapsed": false
   },
   "outputs": [
    {
     "data": {
      "image/png": "[encoded data removed]",
      "text/plain": [
       "<matplotlib.figure.Figure at 0x10594ac88>"
      ]
     },
     "metadata": {},
     "output_type": "display_data"
    }
   ],
   "source": [
    "from mlxtend.evaluate import plot_decision_regions\n",
    "fig = plot_decision_regions(X=X_std, y=y, clf=nn1, legend=2)"
   ]
  },
  {
   "cell_type": "markdown",
   "metadata": {},
   "source": [
    "### Stochastic Gradient Descent"
   ]
  },
  {
   "cell_type": "markdown",
   "metadata": {},
   "source": [
    "Setting `minibatches` to `n_samples` will result in stochastic gradient descent training; please see [Gradient Descent vs. Stochastic Gradient Descent](../general_concepts/gradient-optimization.md) for details."
   ]
  },
  {
   "cell_type": "code",
   "execution_count": 8,
   "metadata": {
    "collapsed": false
   },
   "outputs": [
    {
     "name": "stderr",
     "output_type": "stream",
     "text": [
      "Epoch: 30/30, Elapsed: 0:00:01, ETA: 0:00:00"
     ]
    }
   ],
   "source": [
    "from mlxtend.classifier import NeuralNetMLP\n",
    "\n",
    "import numpy as np\n",
    "nn2 = NeuralNetMLP(n_output=len(np.unique(y)), \n",
    "                   n_features=X_std.shape[1], \n",
    "                   n_hidden=50, \n",
    "                   l2=0.00, \n",
    "                   l1=0.0, \n",
    "                   epochs=30, \n",
    "                   eta=0.01, \n",
    "                   alpha=0.2,\n",
    "                   decrease_const=0.0,\n",
    "                   minibatches=X_std.shape[0], \n",
    "                   shuffle_init=True,\n",
    "                   shuffle_epoch=True,\n",
    "                   random_seed=1,\n",
    "                   print_progress=3)\n",
    "\n",
    "nn2 = nn2.fit(X_std, y)"
   ]
  },
  {
   "cell_type": "code",
   "execution_count": 9,
   "metadata": {
    "collapsed": false
   },
   "outputs": [
    {
     "data": {
      "image/png": "[encoded data removed]",
      "text/plain": [
       "<matplotlib.figure.Figure at 0x10915e9e8>"
      ]
     },
     "metadata": {},
     "output_type": "display_data"
    }
   ],
   "source": [
    "batches = np.array_split(range(len(nn2.cost_)), nn2.epochs+1)\n",
    "cost_ary = np.array(nn2.cost_)\n",
    "cost_avgs = [np.mean(cost_ary[i]) for i in batches]\n",
    "plt.plot(range(len(cost_avgs)),\n",
    "         cost_avgs,\n",
    "         color='red')\n",
    "plt.ylim([0, 2])\n",
    "plt.ylabel('Cost')\n",
    "plt.xlabel('Epochs')\n",
    "plt.tight_layout()\n",
    "plt.show()"
   ]
  },
  {
   "cell_type": "markdown",
   "metadata": {},
   "source": [
    "Continue the training for 200 epochs..."
   ]
  },
  {
   "cell_type": "code",
   "execution_count": 10,
   "metadata": {
    "collapsed": false
   },
   "outputs": [
    {
     "name": "stderr",
     "output_type": "stream",
     "text": [
      "Epoch: 200/200, Elapsed: 0:00:05, ETA: 0:00:00"
     ]
    }
   ],
   "source": [
    "nn2.epochs = 200\n",
    "nn2 = nn2.fit(X_std, y)"
   ]
  },
  {
   "cell_type": "code",
   "execution_count": 11,
   "metadata": {
    "collapsed": false
   },
   "outputs": [
    {
     "data": {
      "image/png": "[encoded data removed]",
      "text/plain": [
       "<matplotlib.figure.Figure at 0x104d38e10>"
      ]
     },
     "metadata": {},
     "output_type": "display_data"
    }
   ],
   "source": [
    "batches = np.array_split(range(len(nn2.cost_)), nn2.epochs+1)\n",
    "cost_ary = np.array(nn2.cost_)\n",
    "cost_avgs = [np.mean(cost_ary[i]) for i in batches]\n",
    "plt.plot(range(30, len(cost_avgs)+30),\n",
    "         cost_avgs,\n",
    "         color='red')\n",
    "plt.ylim([0, 2])\n",
    "plt.xlim([30, 30+nn2.epochs])\n",
    "plt.ylabel('Cost')\n",
    "plt.xlabel('Epochs')\n",
    "plt.tight_layout()\n",
    "plt.show()"
   ]
  },
  {
   "cell_type": "code",
   "execution_count": 12,
   "metadata": {
    "collapsed": false
   },
   "outputs": [
    {
     "name": "stdout",
     "output_type": "stream",
     "text": [
      "Accuracy: 96.67%\n"
     ]
    }
   ],
   "source": [
    "y_pred = nn2.predict(X_std)\n",
    "acc = np.sum(y == y_pred, axis=0) / X_std.shape[0]\n",
    "print('Accuracy: %.2f%%' % (acc * 100))"
   ]
  },
  {
   "cell_type": "code",
   "execution_count": 13,
   "metadata": {
    "collapsed": false
   },
   "outputs": [
    {
     "data": {
      "image/png": "[encoded data removed]",
      "text/plain": [
       "<matplotlib.figure.Figure at 0x109154b00>"
      ]
     },
     "metadata": {},
     "output_type": "display_data"
    }
   ],
   "source": [
    "fig = plot_decision_regions(X=X_std, y=y, clf=nn2, legend=2)\n",
    "plt.show()"
   ]
  },
  {
   "cell_type": "markdown",
   "metadata": {},
   "source": [
    "## Example 2 - Classifying Handwritten Digits from a 10% MNIST Subset"
   ]
  },
  {
   "cell_type": "markdown",
   "metadata": {},
   "source": [
    "Load a **5000-sample subset** of the [MNIST dataset](http://rasbt.github.io/mlxtend/docs/data/mnist/) (please see [`data.load_mnist`](../data/load_mnist.md) if you want to download and read in the complete MNIST dataset).\n"
   ]
  },
  {
   "cell_type": "code",
   "execution_count": 14,
   "metadata": {
    "collapsed": false
   },
   "outputs": [],
   "source": [
    "from mlxtend.data import mnist_data\n",
    "from mlxtend.preprocessing import shuffle_arrays_unison\n",
    "\n",
    "X, y = mnist_data()\n",
    "X, y = shuffle_arrays_unison((X, y), random_seed=1)\n",
    "X_train, y_train = X[:500], y[:500]\n",
    "X_test, y_test = X[500:], y[500:]"
   ]
  },
  {
   "cell_type": "markdown",
   "metadata": {},
   "source": [
    "Visualize a sample from the MNIST dataset to check if it was loaded correctly:"
   ]
  },
  {
   "cell_type": "code",
   "execution_count": 15,
   "metadata": {
    "collapsed": false
   },
   "outputs": [
    {
     "data": {
      "image/png": "[encoded data removed]",
      "text/plain": [
       "<matplotlib.figure.Figure at 0x1090d3f98>"
      ]
     },
     "metadata": {},
     "output_type": "display_data"
    }
   ],
   "source": [
    "import matplotlib.pyplot as plt\n",
    "\n",
    "def plot_digit(X, y, idx):\n",
    "    img = X[idx].reshape(28,28)\n",
    "    plt.imshow(img, cmap='Greys',  interpolation='nearest')\n",
    "    plt.title('true label: %d' % y[idx])\n",
    "    plt.show()\n",
    "    \n",
    "plot_digit(X, y, 3500)    "
   ]
  },
  {
   "cell_type": "markdown",
   "metadata": {},
   "source": [
    "Standardize pixel values:"
   ]
  },
  {
   "cell_type": "code",
   "execution_count": 16,
   "metadata": {
    "collapsed": false
   },
   "outputs": [],
   "source": [
    "import numpy as np\n",
    "from mlxtend.preprocessing import standardize\n",
    "\n",
    "X_train_std, params = standardize(X_train, \n",
    "                                  columns=range(X_train.shape[1]), \n",
    "                                  return_params=True)\n",
    "\n",
    "X_test_std = standardize(X_test,\n",
    "                         columns=range(X_test.shape[1]),\n",
    "                         params=params)"
   ]
  },
  {
   "cell_type": "markdown",
   "metadata": {},
   "source": [
    "Initialize the neural network to recognize the 10 different digits (0-10) using 300 epochs and mini-batch learning."
   ]
  },
  {
   "cell_type": "code",
   "execution_count": 17,
   "metadata": {
    "collapsed": false
   },
   "outputs": [],
   "source": [
    "nn = NeuralNetMLP(n_output=10, \n",
    "                  n_features=X_train_std.shape[1],\n",
    "                  n_hidden=50,\n",
    "                  l2=0.5,\n",
    "                  l1=0.0,\n",
    "                  epochs=300,\n",
    "                  eta=0.001,\n",
    "                  minibatches=25,\n",
    "                  alpha=0.001,\n",
    "                  decrease_const=0.0,\n",
    "                  random_seed=1,\n",
    "                  print_progress=3)"
   ]
  },
  {
   "cell_type": "markdown",
   "metadata": {},
   "source": [
    "Learn the features while printing the progress to get an idea about how long it may take."
   ]
  },
  {
   "cell_type": "code",
   "execution_count": 18,
   "metadata": {
    "collapsed": false
   },
   "outputs": [
    {
     "name": "stderr",
     "output_type": "stream",
     "text": [
      "Epoch: 300/300, Elapsed: 0:00:12, ETA: 0:00:00"
     ]
    },
    {
     "data": {
      "image/png": "[encoded data removed]",
      "text/plain": [
       "<matplotlib.figure.Figure at 0x10c3b5a90>"
      ]
     },
     "metadata": {},
     "output_type": "display_data"
    }
   ],
   "source": [
    "import matplotlib.pyplot as plt\n",
    "\n",
    "nn.fit(X_train_std, y_train)\n",
    "\n",
    "plt.plot(range(len(nn.cost_)), nn.cost_)\n",
    "plt.ylim([0, 500])\n",
    "plt.ylabel('Cost')\n",
    "plt.xlabel('Epochs')\n",
    "plt.show()"
   ]
  },
  {
   "cell_type": "code",
   "execution_count": 19,
   "metadata": {
    "collapsed": false
   },
   "outputs": [
    {
     "name": "stdout",
     "output_type": "stream",
     "text": [
      "Train Accuracy: 98.80%\n",
      "Test Accuracy: 84.00%\n"
     ]
    }
   ],
   "source": [
    "y_train_pred = nn.predict(X_train_std)\n",
    "y_test_pred = nn.predict(X_test_std)\n",
    "\n",
    "train_acc = np.sum(y_train == y_train_pred, axis=0) / X_train_std.shape[0]\n",
    "test_acc = np.sum(y_test == y_test_pred, axis=0) / X_test_std.shape[0]\n",
    "\n",
    "print('Train Accuracy: %.2f%%' % (train_acc * 100))\n",
    "print('Test Accuracy: %.2f%%' % (test_acc * 100))"
   ]
  },
  {
   "cell_type": "markdown",
   "metadata": {},
   "source": [
    "**Please note** that this neural network has been trained on only 10% of the MNIST data for technical demonstration purposes, hence, the lousy predictive performance."
   ]
  },
  {
   "cell_type": "markdown",
   "metadata": {},
   "source": [
    "# API"
   ]
  },
  {
   "cell_type": "code",
   "execution_count": 20,
   "metadata": {
    "collapsed": false
   },
   "outputs": [
    {
     "name": "stdout",
     "output_type": "stream",
     "text": [
      "## NeuralNetMLP\n",
      "\n",
      "*NeuralNetMLP(n_output, n_features, n_hidden=30, l1=0.0, l2=0.0, epochs=500, eta=0.001, alpha=0.0, decrease_const=0.0, random_weights=[-1.0, 1.0], shuffle_init=True, shuffle_epoch=True, minibatches=1, random_seed=None, print_progress=0)*\n",
      "\n",
      "Feedforward neural network / Multi-layer perceptron classifier.\n",
      "\n",
      "**Parameters**\n",
      "\n",
      "- `n_output` : int\n",
      "\n",
      "    Number of output units, should be equal to the\n",
      "    number of unique class labels.\n",
      "\n",
      "- `n_features` : int\n",
      "\n",
      "    Number of features (dimensions) in the target dataset.\n",
      "    Should be equal to the number of columns in the X array.\n",
      "\n",
      "- `n_hidden` : int (default: 30)\n",
      "\n",
      "    Number of hidden units.\n",
      "\n",
      "- `l1` : float (default: 0.0)\n",
      "\n",
      "    Lambda value for L1-regularization.\n",
      "    No regularization if l1=0.0 (default)\n",
      "\n",
      "- `l2` : float (default: 0.0)\n",
      "\n",
      "    Lambda value for L2-regularization.\n",
      "    No regularization if l2=0.0 (default)\n",
      "\n",
      "- `epochs` : int (default: 500)\n",
      "\n",
      "    Number of passes over the training set.\n",
      "\n",
      "- `eta` : float (default: 0.001)\n",
      "\n",
      "    Learning rate.\n",
      "\n",
      "- `alpha` : float (default: 0.0)\n",
      "\n",
      "    Momentum constant. Factor multiplied with the\n",
      "    gradient of the previous epoch t-1 to improve\n",
      "    learning speed\n",
      "    w(t) := w(t) - (grad(t) + alpha*grad(t-1))\n",
      "\n",
      "- `decrease_const` : float (default: 0.0)\n",
      "\n",
      "    Decrease constant. Shrinks the learning rate\n",
      "    after each epoch via eta / (1 + epoch*decrease_const)\n",
      "\n",
      "- `random_weights` : list (default: [-1.0, 1.0])\n",
      "\n",
      "    Min and max values for initializing the random weights.\n",
      "    Initializes weights to 0 if None or False.\n",
      "\n",
      "- `shuffle_init` : bool (default: True)\n",
      "\n",
      "    Shuffles (a copy of the) training data before training.\n",
      "\n",
      "- `shuffle_epoch` : bool (default: True)\n",
      "\n",
      "    Shuffles training data before every epoch if True to prevent circles.\n",
      "\n",
      "- `minibatches` : int (default: 1)\n",
      "\n",
      "    Divides training data into k minibatches for efficiency.\n",
      "    Normal gradient descent learning if k=1 (default).\n",
      "\n",
      "- `random_seed` : int (default: None)\n",
      "\n",
      "    Set random seed for shuffling and initializing the weights.\n",
      "\n",
      "- `print_progress` : int (default: 0)\n",
      "\n",
      "    Prints progress in fitting to stderr.\n",
      "    0: No output\n",
      "    1: Epochs elapsed\n",
      "    2: 1 plus time elapsed\n",
      "    3: 2 plus estimated time until completion\n",
      "\n",
      "**Attributes**\n",
      "\n",
      "- `cost_` : list\n",
      "\n",
      "    Sum of squared errors after each epoch.\n",
      "\n",
      "### Methods\n",
      "\n",
      "<hr>\n",
      "\n",
      "*fit(X, y)*\n",
      "\n",
      "Learn weight coefficients from training data.\n",
      "\n",
      "**Parameters**\n",
      "\n",
      "- `X` : array, shape = [n_samples, n_features]\n",
      "\n",
      "    Input layer with original features.\n",
      "\n",
      "- `y` : array, shape = [n_samples]\n",
      "\n",
      "    Target class labels.\n",
      "\n",
      "**Returns:**\n",
      "\n",
      "self\n",
      "\n",
      "<hr>\n",
      "\n",
      "*predict(X)*\n",
      "\n",
      "Predict class labels\n",
      "\n",
      "**Parameters**\n",
      "\n",
      "- `X` : array, shape = [n_samples, n_features]\n",
      "\n",
      "    Input layer with original features.\n",
      "\n",
      "**Returns:**\n",
      "\n",
      "- `y_pred` : array, shape = [n_samples]\n",
      "\n",
      "    Predicted class labels.\n",
      "\n",
      "\n"
     ]
    }
   ],
   "source": [
    "with open('../../api_modules/mlxtend.classifier/NeuralNetMLP.md', 'r') as f:\n",
    "    print(f.read())"
   ]
  }
 ],
 "metadata": {
  "kernelspec": {
   "display_name": "Python 3",
   "language": "python",
   "name": "python3"
  },
  "language_info": {
   "codemirror_mode": {
    "name": "ipython",
    "version": 3
   },
   "file_extension": ".py",
   "mimetype": "text/x-python",
   "name": "python",
   "nbconvert_exporter": "python",
   "pygments_lexer": "ipython3",
   "version": "3.5.1"
  }
 },
 "nbformat": 4,
 "nbformat_minor": 0
}
